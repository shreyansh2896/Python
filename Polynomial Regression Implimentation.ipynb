{
 "cells": [
  {
   "cell_type": "code",
   "execution_count": 1,
   "metadata": {},
   "outputs": [],
   "source": [
    "import pandas as pd\n",
    "import numpy as np\n",
    "import matplotlib.pyplot as plt\n",
    "%matplotlib inline"
   ]
  },
  {
   "cell_type": "code",
   "execution_count": 2,
   "metadata": {},
   "outputs": [
    {
     "data": {
      "text/plain": [
       "Text(0, 0.5, 'Y')"
      ]
     },
     "execution_count": 2,
     "metadata": {},
     "output_type": "execute_result"
    },
    {
     "data": {
      "image/png": "[encoded data removed]",
      "text/plain": [
       "<Figure size 432x288 with 1 Axes>"
      ]
     },
     "metadata": {
      "needs_background": "light"
     },
     "output_type": "display_data"
    }
   ],
   "source": [
    "# numpy.random.rand()` in Python is a function from the NumPy library that generates an array of specified shapes and fills it with random values uniformly distributed between 0 and 1. \n",
    "# It is commonly used for creating random arrays\n",
    "\n",
    "x= 6*np.random.rand(100,1)-3   # (-3 is used to create some outliers)\n",
    "y=0.5* x**2 + 1.5*x + 2+np.random.randn(100,1)\n",
    "\n",
    "plt.scatter(x,y,color='g')\n",
    "plt.xlabel('X')\n",
    "plt.ylabel('Y')"
   ]
  },
  {
   "cell_type": "code",
   "execution_count": 3,
   "metadata": {},
   "outputs": [],
   "source": [
    "from sklearn.model_selection import train_test_split\n",
    "x_train,x_test,y_train,y_test=train_test_split(x,y,test_size=0.2,random_state=42)"
   ]
  },
  {
   "cell_type": "code",
   "execution_count": 4,
   "metadata": {},
   "outputs": [],
   "source": [
    "## Let's implement Simple LR to check how model is performing on non linear data points\n",
    "\n",
    "from sklearn.linear_model import LinearRegression\n",
    "regression_1=LinearRegression()\n"
   ]
  },
  {
   "cell_type": "code",
   "execution_count": 5,
   "metadata": {},
   "outputs": [
    {
     "data": {
      "text/plain": [
       "(80, 1)"
      ]
     },
     "execution_count": 5,
     "metadata": {},
     "output_type": "execute_result"
    }
   ],
   "source": [
    "x_train.shape"
   ]
  },
  {
   "cell_type": "code",
   "execution_count": 6,
   "metadata": {},
   "outputs": [
    {
     "data": {
      "text/plain": [
       "(80, 1)"
      ]
     },
     "execution_count": 6,
     "metadata": {},
     "output_type": "execute_result"
    }
   ],
   "source": [
    "y_train.shape"
   ]
  },
  {
   "cell_type": "code",
   "execution_count": 7,
   "metadata": {},
   "outputs": [
    {
     "data": {
      "text/plain": [
       "LinearRegression()"
      ]
     },
     "execution_count": 7,
     "metadata": {},
     "output_type": "execute_result"
    }
   ],
   "source": [
    "regression_1.fit(x_train,y_train)"
   ]
  },
  {
   "cell_type": "code",
   "execution_count": 8,
   "metadata": {},
   "outputs": [],
   "source": [
    "y_pred=regression_1.predict(x_test)"
   ]
  },
  {
   "cell_type": "code",
   "execution_count": 9,
   "metadata": {},
   "outputs": [],
   "source": [
    "from sklearn.metrics import mean_squared_error,mean_absolute_error\n",
    "mse=mean_squared_error(y_test,y_pred)\n",
    "mae=mean_absolute_error(y_test,y_pred)\n",
    "rmse=np.sqrt(mse)"
   ]
  },
  {
   "cell_type": "code",
   "execution_count": 10,
   "metadata": {},
   "outputs": [
    {
     "name": "stdout",
     "output_type": "stream",
     "text": [
      "0.7084487615023629\n"
     ]
    }
   ],
   "source": [
    "from sklearn.metrics import r2_score\n",
    "score_1 =r2_score(y_test,y_pred)\n",
    "print(score_1)    # Accuracy is  very less for test dataset"
   ]
  },
  {
   "cell_type": "code",
   "execution_count": 11,
   "metadata": {},
   "outputs": [
    {
     "data": {
      "text/plain": [
       "Text(0, 0.5, 'Y')"
      ]
     },
     "execution_count": 11,
     "metadata": {},
     "output_type": "execute_result"
    },
    {
     "data": {
      "image/png": "[encoded data removed]",
      "text/plain": [
       "<Figure size 432x288 with 1 Axes>"
      ]
     },
     "metadata": {
      "needs_background": "light"
     },
     "output_type": "display_data"
    }
   ],
   "source": [
    "## Let's visualize this model corresponding to train dataset\n",
    "\n",
    "plt.plot(x_train,regression_1.predict(x_train),color='r')\n",
    "plt.scatter(x_train,y_train)\n",
    "plt.xlabel(\"X dataset\")\n",
    "plt.ylabel(\"Y\")"
   ]
  },
  {
   "cell_type": "markdown",
   "metadata": {},
   "source": [
    "### Apply polynomial regression"
   ]
  },
  {
   "cell_type": "code",
   "execution_count": 12,
   "metadata": {},
   "outputs": [],
   "source": [
    "from sklearn.preprocessing import PolynomialFeatures\n",
    "poly=PolynomialFeatures(degree=2,include_bias=True)\n",
    "x_train_poly=poly.fit_transform(x_train)\n",
    "x_test_poly=poly.transform(x_test)"
   ]
  },
  {
   "cell_type": "code",
   "execution_count": 13,
   "metadata": {},
   "outputs": [
    {
     "data": {
      "text/plain": [
       "array([[-1.4812353 ],\n",
       "       [ 1.66875856],\n",
       "       [-2.55895898],\n",
       "       [ 0.15690157],\n",
       "       [-0.77005758],\n",
       "       [ 2.09637949],\n",
       "       [ 0.8925141 ],\n",
       "       [-1.7200179 ],\n",
       "       [ 2.29719129],\n",
       "       [ 1.7746188 ],\n",
       "       [ 0.43698128],\n",
       "       [ 2.86466696],\n",
       "       [ 2.8145174 ],\n",
       "       [-1.00512051],\n",
       "       [ 2.67077734],\n",
       "       [-0.26716908],\n",
       "       [ 0.95894257],\n",
       "       [-0.72160072],\n",
       "       [-0.91378411],\n",
       "       [ 0.38931939],\n",
       "       [-0.49493114],\n",
       "       [-0.60643537],\n",
       "       [-1.57045284],\n",
       "       [ 1.00421458],\n",
       "       [-2.95580726],\n",
       "       [ 2.18431831],\n",
       "       [ 1.91921445],\n",
       "       [-1.33633279],\n",
       "       [-2.60492201],\n",
       "       [ 1.10552817],\n",
       "       [ 1.40178258],\n",
       "       [ 0.37458151],\n",
       "       [ 0.04314182],\n",
       "       [ 2.23523306],\n",
       "       [ 2.33244151],\n",
       "       [ 1.19071237],\n",
       "       [-1.41180144],\n",
       "       [-2.12751569],\n",
       "       [ 0.6971475 ],\n",
       "       [ 0.94899479],\n",
       "       [-2.48516172],\n",
       "       [-0.64322315],\n",
       "       [-1.9163177 ],\n",
       "       [-1.70494085],\n",
       "       [ 2.61345982],\n",
       "       [ 2.10136676],\n",
       "       [-1.96881961],\n",
       "       [ 0.43069157],\n",
       "       [-1.17338507],\n",
       "       [ 1.64721092],\n",
       "       [-1.0908288 ],\n",
       "       [-2.17514017],\n",
       "       [ 1.54883171],\n",
       "       [-0.38849899],\n",
       "       [-0.64830746],\n",
       "       [ 1.14013616],\n",
       "       [ 2.08670507],\n",
       "       [ 0.6071885 ],\n",
       "       [-2.56621805],\n",
       "       [-2.1177307 ],\n",
       "       [-1.04755801],\n",
       "       [-2.89537804],\n",
       "       [-1.39798328],\n",
       "       [-2.06859424],\n",
       "       [-1.79372304],\n",
       "       [ 2.79317666],\n",
       "       [-2.88783019],\n",
       "       [ 1.42481955],\n",
       "       [ 2.7587379 ],\n",
       "       [-0.08285834],\n",
       "       [-2.45449847],\n",
       "       [-2.37647854],\n",
       "       [ 0.28242973],\n",
       "       [ 0.6970828 ],\n",
       "       [ 0.31963313],\n",
       "       [ 0.22314432],\n",
       "       [-2.60471484],\n",
       "       [ 2.68926719],\n",
       "       [ 2.40335035],\n",
       "       [ 2.85575623]])"
      ]
     },
     "execution_count": 13,
     "metadata": {},
     "output_type": "execute_result"
    }
   ],
   "source": [
    "x_train_poly\n",
    "x_train"
   ]
  },
  {
   "cell_type": "code",
   "execution_count": 14,
   "metadata": {},
   "outputs": [
    {
     "data": {
      "text/plain": [
       "array([[ 1.00000000e+00, -6.42907391e-01,  4.13329913e-01],\n",
       "       [ 1.00000000e+00, -1.77421691e+00,  3.14784563e+00],\n",
       "       [ 1.00000000e+00, -1.25817159e-01,  1.58299574e-02],\n",
       "       [ 1.00000000e+00, -1.15298300e+00,  1.32936979e+00],\n",
       "       [ 1.00000000e+00, -2.87897682e+00,  8.28850751e+00],\n",
       "       [ 1.00000000e+00,  2.57982421e+00,  6.65549297e+00],\n",
       "       [ 1.00000000e+00,  1.38677264e+00,  1.92313836e+00],\n",
       "       [ 1.00000000e+00, -8.64661519e-01,  7.47639543e-01],\n",
       "       [ 1.00000000e+00,  2.88525346e+00,  8.32468755e+00],\n",
       "       [ 1.00000000e+00,  4.42830934e-01,  1.96099236e-01],\n",
       "       [ 1.00000000e+00, -1.03192390e+00,  1.06486693e+00],\n",
       "       [ 1.00000000e+00, -1.60611906e+00,  2.57961843e+00],\n",
       "       [ 1.00000000e+00,  1.61237975e+00,  2.59976844e+00],\n",
       "       [ 1.00000000e+00,  2.37832580e+00,  5.65643363e+00],\n",
       "       [ 1.00000000e+00,  1.50837862e-02,  2.27520606e-04],\n",
       "       [ 1.00000000e+00, -2.29703839e+00,  5.27638535e+00],\n",
       "       [ 1.00000000e+00,  2.48156185e+00,  6.15814923e+00],\n",
       "       [ 1.00000000e+00, -2.65949548e+00,  7.07291622e+00],\n",
       "       [ 1.00000000e+00,  9.42864514e-01,  8.88993492e-01],\n",
       "       [ 1.00000000e+00,  2.82291445e+00,  7.96884602e+00]])"
      ]
     },
     "execution_count": 14,
     "metadata": {},
     "output_type": "execute_result"
    }
   ],
   "source": [
    "x_test_poly"
   ]
  },
  {
   "cell_type": "code",
   "execution_count": 15,
   "metadata": {},
   "outputs": [
    {
     "name": "stdout",
     "output_type": "stream",
     "text": [
      "0.9036952483411822\n"
     ]
    }
   ],
   "source": [
    "## Check the score based on new train and test values\n",
    "\n",
    "from sklearn.metrics import r2_score\n",
    "regression=LinearRegression()\n",
    "regression.fit(x_train_poly,y_train)\n",
    "y_pred=regression.predict(x_test_poly)\n",
    "score_poly=r2_score(y_test,y_pred)\n",
    "print(score_poly)   # Accuracy is very good"
   ]
  },
  {
   "cell_type": "code",
   "execution_count": 16,
   "metadata": {},
   "outputs": [
    {
     "name": "stdout",
     "output_type": "stream",
     "text": [
      "[[0.         1.56528436 0.47207091]]\n"
     ]
    }
   ],
   "source": [
    "print(regression.coef_)"
   ]
  },
  {
   "cell_type": "code",
   "execution_count": 17,
   "metadata": {},
   "outputs": [
    {
     "name": "stdout",
     "output_type": "stream",
     "text": [
      "[1.87434303]\n"
     ]
    }
   ],
   "source": [
    "print(regression.intercept_)"
   ]
  },
  {
   "cell_type": "code",
   "execution_count": 18,
   "metadata": {},
   "outputs": [
    {
     "data": {
      "text/plain": [
       "<matplotlib.collections.PathCollection at 0x2029b16c1c0>"
      ]
     },
     "execution_count": 18,
     "metadata": {},
     "output_type": "execute_result"
    },
    {
     "data": {
      "image/png": "[encoded data removed]",
      "text/plain": [
       "<Figure size 432x288 with 1 Axes>"
      ]
     },
     "metadata": {
      "needs_background": "light"
     },
     "output_type": "display_data"
    }
   ],
   "source": [
    "plt.scatter(x_train,regression.predict(x_train_poly))   # Going to give you best fit line\n",
    "plt.scatter(x_train,y_train)"
   ]
  },
  {
   "cell_type": "markdown",
   "metadata": {},
   "source": [
    "## Let's check the accuracy when the degree is 3"
   ]
  },
  {
   "cell_type": "code",
   "execution_count": 19,
   "metadata": {},
   "outputs": [],
   "source": [
    "from sklearn.preprocessing import PolynomialFeatures\n",
    "poly=PolynomialFeatures(degree=3,include_bias=True)\n",
    "x_train_poly=poly.fit_transform(x_train)\n",
    "x_test_poly=poly.transform(x_test)"
   ]
  },
  {
   "cell_type": "code",
   "execution_count": 20,
   "metadata": {},
   "outputs": [
    {
     "name": "stdout",
     "output_type": "stream",
     "text": [
      "0.9024542959079999\n"
     ]
    }
   ],
   "source": [
    "## Check the score based on new train and test values\n",
    "\n",
    "from sklearn.metrics import r2_score\n",
    "regression=LinearRegression()\n",
    "regression.fit(x_train_poly,y_train)\n",
    "y_pred=regression.predict(x_test_poly)\n",
    "score_poly=r2_score(y_test,y_pred)\n",
    "print(score_poly)   # Accuracy has decreased this time for degree 3 and was good but degree 2"
   ]
  },
  {
   "cell_type": "code",
   "execution_count": 21,
   "metadata": {},
   "outputs": [
    {
     "data": {
      "text/plain": [
       "array([[ 1.00000000e+00, -3.00000000e+00,  9.00000000e+00,\n",
       "        -2.70000000e+01],\n",
       "       [ 1.00000000e+00, -2.96984925e+00,  8.82000455e+00,\n",
       "        -2.61940839e+01],\n",
       "       [ 1.00000000e+00, -2.93969849e+00,  8.64182723e+00,\n",
       "        -2.54043665e+01],\n",
       "       [ 1.00000000e+00, -2.90954774e+00,  8.46546804e+00,\n",
       "        -2.46306834e+01],\n",
       "       [ 1.00000000e+00, -2.87939698e+00,  8.29092700e+00,\n",
       "        -2.38728702e+01],\n",
       "       [ 1.00000000e+00, -2.84924623e+00,  8.11820409e+00,\n",
       "        -2.31307624e+01],\n",
       "       [ 1.00000000e+00, -2.81909548e+00,  7.94729931e+00,\n",
       "        -2.24041955e+01],\n",
       "       [ 1.00000000e+00, -2.78894472e+00,  7.77821267e+00,\n",
       "        -2.16930052e+01],\n",
       "       [ 1.00000000e+00, -2.75879397e+00,  7.61094417e+00,\n",
       "        -2.09970269e+01],\n",
       "       [ 1.00000000e+00, -2.72864322e+00,  7.44549380e+00,\n",
       "        -2.03160961e+01],\n",
       "       [ 1.00000000e+00, -2.69849246e+00,  7.28186157e+00,\n",
       "        -1.96500486e+01],\n",
       "       [ 1.00000000e+00, -2.66834171e+00,  7.12004747e+00,\n",
       "        -1.89987196e+01],\n",
       "       [ 1.00000000e+00, -2.63819095e+00,  6.96005151e+00,\n",
       "        -1.83619449e+01],\n",
       "       [ 1.00000000e+00, -2.60804020e+00,  6.80187369e+00,\n",
       "        -1.77395600e+01],\n",
       "       [ 1.00000000e+00, -2.57788945e+00,  6.64551400e+00,\n",
       "        -1.71314004e+01],\n",
       "       [ 1.00000000e+00, -2.54773869e+00,  6.49097245e+00,\n",
       "        -1.65373017e+01],\n",
       "       [ 1.00000000e+00, -2.51758794e+00,  6.33824903e+00,\n",
       "        -1.59570993e+01],\n",
       "       [ 1.00000000e+00, -2.48743719e+00,  6.18734375e+00,\n",
       "        -1.53906289e+01],\n",
       "       [ 1.00000000e+00, -2.45728643e+00,  6.03825661e+00,\n",
       "        -1.48377260e+01],\n",
       "       [ 1.00000000e+00, -2.42713568e+00,  5.89098760e+00,\n",
       "        -1.42982262e+01],\n",
       "       [ 1.00000000e+00, -2.39698492e+00,  5.74553673e+00,\n",
       "        -1.37719649e+01],\n",
       "       [ 1.00000000e+00, -2.36683417e+00,  5.60190399e+00,\n",
       "        -1.32587778e+01],\n",
       "       [ 1.00000000e+00, -2.33668342e+00,  5.46008939e+00,\n",
       "        -1.27585003e+01],\n",
       "       [ 1.00000000e+00, -2.30653266e+00,  5.32009293e+00,\n",
       "        -1.22709681e+01],\n",
       "       [ 1.00000000e+00, -2.27638191e+00,  5.18191460e+00,\n",
       "        -1.17960166e+01],\n",
       "       [ 1.00000000e+00, -2.24623116e+00,  5.04555441e+00,\n",
       "        -1.13334815e+01],\n",
       "       [ 1.00000000e+00, -2.21608040e+00,  4.91101235e+00,\n",
       "        -1.08831982e+01],\n",
       "       [ 1.00000000e+00, -2.18592965e+00,  4.77828843e+00,\n",
       "        -1.04450023e+01],\n",
       "       [ 1.00000000e+00, -2.15577889e+00,  4.64738264e+00,\n",
       "        -1.00187294e+01],\n",
       "       [ 1.00000000e+00, -2.12562814e+00,  4.51829499e+00,\n",
       "        -9.60421498e+00],\n",
       "       [ 1.00000000e+00, -2.09547739e+00,  4.39102548e+00,\n",
       "        -9.20129460e+00],\n",
       "       [ 1.00000000e+00, -2.06532663e+00,  4.26557410e+00,\n",
       "        -8.80980380e+00],\n",
       "       [ 1.00000000e+00, -2.03517588e+00,  4.14194086e+00,\n",
       "        -8.42957813e+00],\n",
       "       [ 1.00000000e+00, -2.00502513e+00,  4.02012575e+00,\n",
       "        -8.06045315e+00],\n",
       "       [ 1.00000000e+00, -1.97487437e+00,  3.90012878e+00,\n",
       "        -7.70226438e+00],\n",
       "       [ 1.00000000e+00, -1.94472362e+00,  3.78194995e+00,\n",
       "        -7.35484739e+00],\n",
       "       [ 1.00000000e+00, -1.91457286e+00,  3.66558925e+00,\n",
       "        -7.01803772e+00],\n",
       "       [ 1.00000000e+00, -1.88442211e+00,  3.55104669e+00,\n",
       "        -6.69167090e+00],\n",
       "       [ 1.00000000e+00, -1.85427136e+00,  3.43832226e+00,\n",
       "        -6.37558249e+00],\n",
       "       [ 1.00000000e+00, -1.82412060e+00,  3.32741597e+00,\n",
       "        -6.06960803e+00],\n",
       "       [ 1.00000000e+00, -1.79396985e+00,  3.21832782e+00,\n",
       "        -5.77358307e+00],\n",
       "       [ 1.00000000e+00, -1.76381910e+00,  3.11105780e+00,\n",
       "        -5.48734316e+00],\n",
       "       [ 1.00000000e+00, -1.73366834e+00,  3.00560592e+00,\n",
       "        -5.21072383e+00],\n",
       "       [ 1.00000000e+00, -1.70351759e+00,  2.90197217e+00,\n",
       "        -4.94356064e+00],\n",
       "       [ 1.00000000e+00, -1.67336683e+00,  2.80015656e+00,\n",
       "        -4.68568912e+00],\n",
       "       [ 1.00000000e+00, -1.64321608e+00,  2.70015909e+00,\n",
       "        -4.43694483e+00],\n",
       "       [ 1.00000000e+00, -1.61306533e+00,  2.60197975e+00,\n",
       "        -4.19716331e+00],\n",
       "       [ 1.00000000e+00, -1.58291457e+00,  2.50561854e+00,\n",
       "        -3.96618011e+00],\n",
       "       [ 1.00000000e+00, -1.55276382e+00,  2.41107548e+00,\n",
       "        -3.74383077e+00],\n",
       "       [ 1.00000000e+00, -1.52261307e+00,  2.31835055e+00,\n",
       "        -3.52995083e+00],\n",
       "       [ 1.00000000e+00, -1.49246231e+00,  2.22744375e+00,\n",
       "        -3.32437585e+00],\n",
       "       [ 1.00000000e+00, -1.46231156e+00,  2.13835509e+00,\n",
       "        -3.12694137e+00],\n",
       "       [ 1.00000000e+00, -1.43216080e+00,  2.05108457e+00,\n",
       "        -2.93748292e+00],\n",
       "       [ 1.00000000e+00, -1.40201005e+00,  1.96563218e+00,\n",
       "        -2.75583607e+00],\n",
       "       [ 1.00000000e+00, -1.37185930e+00,  1.88199793e+00,\n",
       "        -2.58183636e+00],\n",
       "       [ 1.00000000e+00, -1.34170854e+00,  1.80018181e+00,\n",
       "        -2.41531932e+00],\n",
       "       [ 1.00000000e+00, -1.31155779e+00,  1.72018383e+00,\n",
       "        -2.25612051e+00],\n",
       "       [ 1.00000000e+00, -1.28140704e+00,  1.64200399e+00,\n",
       "        -2.10407546e+00],\n",
       "       [ 1.00000000e+00, -1.25125628e+00,  1.56564228e+00,\n",
       "        -1.95901974e+00],\n",
       "       [ 1.00000000e+00, -1.22110553e+00,  1.49109871e+00,\n",
       "        -1.82078888e+00],\n",
       "       [ 1.00000000e+00, -1.19095477e+00,  1.41837327e+00,\n",
       "        -1.68921842e+00],\n",
       "       [ 1.00000000e+00, -1.16080402e+00,  1.34746597e+00,\n",
       "        -1.56414392e+00],\n",
       "       [ 1.00000000e+00, -1.13065327e+00,  1.27837681e+00,\n",
       "        -1.44540091e+00],\n",
       "       [ 1.00000000e+00, -1.10050251e+00,  1.21110578e+00,\n",
       "        -1.33282495e+00],\n",
       "       [ 1.00000000e+00, -1.07035176e+00,  1.14565289e+00,\n",
       "        -1.22625158e+00],\n",
       "       [ 1.00000000e+00, -1.04020101e+00,  1.08201813e+00,\n",
       "        -1.12551635e+00],\n",
       "       [ 1.00000000e+00, -1.01005025e+00,  1.02020151e+00,\n",
       "        -1.03045479e+00],\n",
       "       [ 1.00000000e+00, -9.79899497e-01,  9.60203025e-01,\n",
       "        -9.40902462e-01],\n",
       "       [ 1.00000000e+00, -9.49748744e-01,  9.02022676e-01,\n",
       "        -8.56694904e-01],\n",
       "       [ 1.00000000e+00, -9.19597990e-01,  8.45660463e-01,\n",
       "        -7.77667662e-01],\n",
       "       [ 1.00000000e+00, -8.89447236e-01,  7.91116386e-01,\n",
       "        -7.03656283e-01],\n",
       "       [ 1.00000000e+00, -8.59296482e-01,  7.38390445e-01,\n",
       "        -6.34496312e-01],\n",
       "       [ 1.00000000e+00, -8.29145729e-01,  6.87482639e-01,\n",
       "        -5.70023294e-01],\n",
       "       [ 1.00000000e+00, -7.98994975e-01,  6.38392970e-01,\n",
       "        -5.10072775e-01],\n",
       "       [ 1.00000000e+00, -7.68844221e-01,  5.91121436e-01,\n",
       "        -4.54480300e-01],\n",
       "       [ 1.00000000e+00, -7.38693467e-01,  5.45668039e-01,\n",
       "        -4.03081416e-01],\n",
       "       [ 1.00000000e+00, -7.08542714e-01,  5.02032777e-01,\n",
       "        -3.55711666e-01],\n",
       "       [ 1.00000000e+00, -6.78391960e-01,  4.60215651e-01,\n",
       "        -3.12206597e-01],\n",
       "       [ 1.00000000e+00, -6.48241206e-01,  4.20216661e-01,\n",
       "        -2.72401755e-01],\n",
       "       [ 1.00000000e+00, -6.18090452e-01,  3.82035807e-01,\n",
       "        -2.36132685e-01],\n",
       "       [ 1.00000000e+00, -5.87939698e-01,  3.45673089e-01,\n",
       "        -2.03234932e-01],\n",
       "       [ 1.00000000e+00, -5.57788945e-01,  3.11128507e-01,\n",
       "        -1.73544042e-01],\n",
       "       [ 1.00000000e+00, -5.27638191e-01,  2.78402061e-01,\n",
       "        -1.46895560e-01],\n",
       "       [ 1.00000000e+00, -4.97487437e-01,  2.47493750e-01,\n",
       "        -1.23125031e-01],\n",
       "       [ 1.00000000e+00, -4.67336683e-01,  2.18403576e-01,\n",
       "        -1.02068003e-01],\n",
       "       [ 1.00000000e+00, -4.37185930e-01,  1.91131537e-01,\n",
       "        -8.35600187e-02],\n",
       "       [ 1.00000000e+00, -4.07035176e-01,  1.65677634e-01,\n",
       "        -6.74366251e-02],\n",
       "       [ 1.00000000e+00, -3.76884422e-01,  1.42041868e-01,\n",
       "        -5.35333672e-02],\n",
       "       [ 1.00000000e+00, -3.46733668e-01,  1.20224237e-01,\n",
       "        -4.16857906e-02],\n",
       "       [ 1.00000000e+00, -3.16582915e-01,  1.00224742e-01,\n",
       "        -3.17294409e-02],\n",
       "       [ 1.00000000e+00, -2.86432161e-01,  8.20433827e-02,\n",
       "        -2.34998634e-02],\n",
       "       [ 1.00000000e+00, -2.56281407e-01,  6.56801596e-02,\n",
       "        -1.68326037e-02],\n",
       "       [ 1.00000000e+00, -2.26130653e-01,  5.11350723e-02,\n",
       "        -1.15632073e-02],\n",
       "       [ 1.00000000e+00, -1.95979899e-01,  3.84081210e-02,\n",
       "        -7.52721969e-03],\n",
       "       [ 1.00000000e+00, -1.65829146e-01,  2.74993056e-02,\n",
       "        -4.56018635e-03],\n",
       "       [ 1.00000000e+00, -1.35678392e-01,  1.84086260e-02,\n",
       "        -2.49765278e-03],\n",
       "       [ 1.00000000e+00, -1.05527638e-01,  1.11360824e-02,\n",
       "        -1.17516448e-03],\n",
       "       [ 1.00000000e+00, -7.53768844e-02,  5.68167471e-03,\n",
       "        -4.28266938e-04],\n",
       "       [ 1.00000000e+00, -4.52261307e-02,  2.04540289e-03,\n",
       "        -9.25056585e-05],\n",
       "       [ 1.00000000e+00, -1.50753769e-02,  2.27266988e-04,\n",
       "        -3.42613550e-06],\n",
       "       [ 1.00000000e+00,  1.50753769e-02,  2.27266988e-04,\n",
       "         3.42613550e-06],\n",
       "       [ 1.00000000e+00,  4.52261307e-02,  2.04540289e-03,\n",
       "         9.25056585e-05],\n",
       "       [ 1.00000000e+00,  7.53768844e-02,  5.68167471e-03,\n",
       "         4.28266938e-04],\n",
       "       [ 1.00000000e+00,  1.05527638e-01,  1.11360824e-02,\n",
       "         1.17516448e-03],\n",
       "       [ 1.00000000e+00,  1.35678392e-01,  1.84086260e-02,\n",
       "         2.49765278e-03],\n",
       "       [ 1.00000000e+00,  1.65829146e-01,  2.74993056e-02,\n",
       "         4.56018635e-03],\n",
       "       [ 1.00000000e+00,  1.95979899e-01,  3.84081210e-02,\n",
       "         7.52721969e-03],\n",
       "       [ 1.00000000e+00,  2.26130653e-01,  5.11350723e-02,\n",
       "         1.15632073e-02],\n",
       "       [ 1.00000000e+00,  2.56281407e-01,  6.56801596e-02,\n",
       "         1.68326037e-02],\n",
       "       [ 1.00000000e+00,  2.86432161e-01,  8.20433827e-02,\n",
       "         2.34998634e-02],\n",
       "       [ 1.00000000e+00,  3.16582915e-01,  1.00224742e-01,\n",
       "         3.17294409e-02],\n",
       "       [ 1.00000000e+00,  3.46733668e-01,  1.20224237e-01,\n",
       "         4.16857906e-02],\n",
       "       [ 1.00000000e+00,  3.76884422e-01,  1.42041868e-01,\n",
       "         5.35333672e-02],\n",
       "       [ 1.00000000e+00,  4.07035176e-01,  1.65677634e-01,\n",
       "         6.74366251e-02],\n",
       "       [ 1.00000000e+00,  4.37185930e-01,  1.91131537e-01,\n",
       "         8.35600187e-02],\n",
       "       [ 1.00000000e+00,  4.67336683e-01,  2.18403576e-01,\n",
       "         1.02068003e-01],\n",
       "       [ 1.00000000e+00,  4.97487437e-01,  2.47493750e-01,\n",
       "         1.23125031e-01],\n",
       "       [ 1.00000000e+00,  5.27638191e-01,  2.78402061e-01,\n",
       "         1.46895560e-01],\n",
       "       [ 1.00000000e+00,  5.57788945e-01,  3.11128507e-01,\n",
       "         1.73544042e-01],\n",
       "       [ 1.00000000e+00,  5.87939698e-01,  3.45673089e-01,\n",
       "         2.03234932e-01],\n",
       "       [ 1.00000000e+00,  6.18090452e-01,  3.82035807e-01,\n",
       "         2.36132685e-01],\n",
       "       [ 1.00000000e+00,  6.48241206e-01,  4.20216661e-01,\n",
       "         2.72401755e-01],\n",
       "       [ 1.00000000e+00,  6.78391960e-01,  4.60215651e-01,\n",
       "         3.12206597e-01],\n",
       "       [ 1.00000000e+00,  7.08542714e-01,  5.02032777e-01,\n",
       "         3.55711666e-01],\n",
       "       [ 1.00000000e+00,  7.38693467e-01,  5.45668039e-01,\n",
       "         4.03081416e-01],\n",
       "       [ 1.00000000e+00,  7.68844221e-01,  5.91121436e-01,\n",
       "         4.54480300e-01],\n",
       "       [ 1.00000000e+00,  7.98994975e-01,  6.38392970e-01,\n",
       "         5.10072775e-01],\n",
       "       [ 1.00000000e+00,  8.29145729e-01,  6.87482639e-01,\n",
       "         5.70023294e-01],\n",
       "       [ 1.00000000e+00,  8.59296482e-01,  7.38390445e-01,\n",
       "         6.34496312e-01],\n",
       "       [ 1.00000000e+00,  8.89447236e-01,  7.91116386e-01,\n",
       "         7.03656283e-01],\n",
       "       [ 1.00000000e+00,  9.19597990e-01,  8.45660463e-01,\n",
       "         7.77667662e-01],\n",
       "       [ 1.00000000e+00,  9.49748744e-01,  9.02022676e-01,\n",
       "         8.56694904e-01],\n",
       "       [ 1.00000000e+00,  9.79899497e-01,  9.60203025e-01,\n",
       "         9.40902462e-01],\n",
       "       [ 1.00000000e+00,  1.01005025e+00,  1.02020151e+00,\n",
       "         1.03045479e+00],\n",
       "       [ 1.00000000e+00,  1.04020101e+00,  1.08201813e+00,\n",
       "         1.12551635e+00],\n",
       "       [ 1.00000000e+00,  1.07035176e+00,  1.14565289e+00,\n",
       "         1.22625158e+00],\n",
       "       [ 1.00000000e+00,  1.10050251e+00,  1.21110578e+00,\n",
       "         1.33282495e+00],\n",
       "       [ 1.00000000e+00,  1.13065327e+00,  1.27837681e+00,\n",
       "         1.44540091e+00],\n",
       "       [ 1.00000000e+00,  1.16080402e+00,  1.34746597e+00,\n",
       "         1.56414392e+00],\n",
       "       [ 1.00000000e+00,  1.19095477e+00,  1.41837327e+00,\n",
       "         1.68921842e+00],\n",
       "       [ 1.00000000e+00,  1.22110553e+00,  1.49109871e+00,\n",
       "         1.82078888e+00],\n",
       "       [ 1.00000000e+00,  1.25125628e+00,  1.56564228e+00,\n",
       "         1.95901974e+00],\n",
       "       [ 1.00000000e+00,  1.28140704e+00,  1.64200399e+00,\n",
       "         2.10407546e+00],\n",
       "       [ 1.00000000e+00,  1.31155779e+00,  1.72018383e+00,\n",
       "         2.25612051e+00],\n",
       "       [ 1.00000000e+00,  1.34170854e+00,  1.80018181e+00,\n",
       "         2.41531932e+00],\n",
       "       [ 1.00000000e+00,  1.37185930e+00,  1.88199793e+00,\n",
       "         2.58183636e+00],\n",
       "       [ 1.00000000e+00,  1.40201005e+00,  1.96563218e+00,\n",
       "         2.75583607e+00],\n",
       "       [ 1.00000000e+00,  1.43216080e+00,  2.05108457e+00,\n",
       "         2.93748292e+00],\n",
       "       [ 1.00000000e+00,  1.46231156e+00,  2.13835509e+00,\n",
       "         3.12694137e+00],\n",
       "       [ 1.00000000e+00,  1.49246231e+00,  2.22744375e+00,\n",
       "         3.32437585e+00],\n",
       "       [ 1.00000000e+00,  1.52261307e+00,  2.31835055e+00,\n",
       "         3.52995083e+00],\n",
       "       [ 1.00000000e+00,  1.55276382e+00,  2.41107548e+00,\n",
       "         3.74383077e+00],\n",
       "       [ 1.00000000e+00,  1.58291457e+00,  2.50561854e+00,\n",
       "         3.96618011e+00],\n",
       "       [ 1.00000000e+00,  1.61306533e+00,  2.60197975e+00,\n",
       "         4.19716331e+00],\n",
       "       [ 1.00000000e+00,  1.64321608e+00,  2.70015909e+00,\n",
       "         4.43694483e+00],\n",
       "       [ 1.00000000e+00,  1.67336683e+00,  2.80015656e+00,\n",
       "         4.68568912e+00],\n",
       "       [ 1.00000000e+00,  1.70351759e+00,  2.90197217e+00,\n",
       "         4.94356064e+00],\n",
       "       [ 1.00000000e+00,  1.73366834e+00,  3.00560592e+00,\n",
       "         5.21072383e+00],\n",
       "       [ 1.00000000e+00,  1.76381910e+00,  3.11105780e+00,\n",
       "         5.48734316e+00],\n",
       "       [ 1.00000000e+00,  1.79396985e+00,  3.21832782e+00,\n",
       "         5.77358307e+00],\n",
       "       [ 1.00000000e+00,  1.82412060e+00,  3.32741597e+00,\n",
       "         6.06960803e+00],\n",
       "       [ 1.00000000e+00,  1.85427136e+00,  3.43832226e+00,\n",
       "         6.37558249e+00],\n",
       "       [ 1.00000000e+00,  1.88442211e+00,  3.55104669e+00,\n",
       "         6.69167090e+00],\n",
       "       [ 1.00000000e+00,  1.91457286e+00,  3.66558925e+00,\n",
       "         7.01803772e+00],\n",
       "       [ 1.00000000e+00,  1.94472362e+00,  3.78194995e+00,\n",
       "         7.35484739e+00],\n",
       "       [ 1.00000000e+00,  1.97487437e+00,  3.90012878e+00,\n",
       "         7.70226438e+00],\n",
       "       [ 1.00000000e+00,  2.00502513e+00,  4.02012575e+00,\n",
       "         8.06045315e+00],\n",
       "       [ 1.00000000e+00,  2.03517588e+00,  4.14194086e+00,\n",
       "         8.42957813e+00],\n",
       "       [ 1.00000000e+00,  2.06532663e+00,  4.26557410e+00,\n",
       "         8.80980380e+00],\n",
       "       [ 1.00000000e+00,  2.09547739e+00,  4.39102548e+00,\n",
       "         9.20129460e+00],\n",
       "       [ 1.00000000e+00,  2.12562814e+00,  4.51829499e+00,\n",
       "         9.60421498e+00],\n",
       "       [ 1.00000000e+00,  2.15577889e+00,  4.64738264e+00,\n",
       "         1.00187294e+01],\n",
       "       [ 1.00000000e+00,  2.18592965e+00,  4.77828843e+00,\n",
       "         1.04450023e+01],\n",
       "       [ 1.00000000e+00,  2.21608040e+00,  4.91101235e+00,\n",
       "         1.08831982e+01],\n",
       "       [ 1.00000000e+00,  2.24623116e+00,  5.04555441e+00,\n",
       "         1.13334815e+01],\n",
       "       [ 1.00000000e+00,  2.27638191e+00,  5.18191460e+00,\n",
       "         1.17960166e+01],\n",
       "       [ 1.00000000e+00,  2.30653266e+00,  5.32009293e+00,\n",
       "         1.22709681e+01],\n",
       "       [ 1.00000000e+00,  2.33668342e+00,  5.46008939e+00,\n",
       "         1.27585003e+01],\n",
       "       [ 1.00000000e+00,  2.36683417e+00,  5.60190399e+00,\n",
       "         1.32587778e+01],\n",
       "       [ 1.00000000e+00,  2.39698492e+00,  5.74553673e+00,\n",
       "         1.37719649e+01],\n",
       "       [ 1.00000000e+00,  2.42713568e+00,  5.89098760e+00,\n",
       "         1.42982262e+01],\n",
       "       [ 1.00000000e+00,  2.45728643e+00,  6.03825661e+00,\n",
       "         1.48377260e+01],\n",
       "       [ 1.00000000e+00,  2.48743719e+00,  6.18734375e+00,\n",
       "         1.53906289e+01],\n",
       "       [ 1.00000000e+00,  2.51758794e+00,  6.33824903e+00,\n",
       "         1.59570993e+01],\n",
       "       [ 1.00000000e+00,  2.54773869e+00,  6.49097245e+00,\n",
       "         1.65373017e+01],\n",
       "       [ 1.00000000e+00,  2.57788945e+00,  6.64551400e+00,\n",
       "         1.71314004e+01],\n",
       "       [ 1.00000000e+00,  2.60804020e+00,  6.80187369e+00,\n",
       "         1.77395600e+01],\n",
       "       [ 1.00000000e+00,  2.63819095e+00,  6.96005151e+00,\n",
       "         1.83619449e+01],\n",
       "       [ 1.00000000e+00,  2.66834171e+00,  7.12004747e+00,\n",
       "         1.89987196e+01],\n",
       "       [ 1.00000000e+00,  2.69849246e+00,  7.28186157e+00,\n",
       "         1.96500486e+01],\n",
       "       [ 1.00000000e+00,  2.72864322e+00,  7.44549380e+00,\n",
       "         2.03160961e+01],\n",
       "       [ 1.00000000e+00,  2.75879397e+00,  7.61094417e+00,\n",
       "         2.09970269e+01],\n",
       "       [ 1.00000000e+00,  2.78894472e+00,  7.77821267e+00,\n",
       "         2.16930052e+01],\n",
       "       [ 1.00000000e+00,  2.81909548e+00,  7.94729931e+00,\n",
       "         2.24041955e+01],\n",
       "       [ 1.00000000e+00,  2.84924623e+00,  8.11820409e+00,\n",
       "         2.31307624e+01],\n",
       "       [ 1.00000000e+00,  2.87939698e+00,  8.29092700e+00,\n",
       "         2.38728702e+01],\n",
       "       [ 1.00000000e+00,  2.90954774e+00,  8.46546804e+00,\n",
       "         2.46306834e+01],\n",
       "       [ 1.00000000e+00,  2.93969849e+00,  8.64182723e+00,\n",
       "         2.54043665e+01],\n",
       "       [ 1.00000000e+00,  2.96984925e+00,  8.82000455e+00,\n",
       "         2.61940839e+01],\n",
       "       [ 1.00000000e+00,  3.00000000e+00,  9.00000000e+00,\n",
       "         2.70000000e+01]])"
      ]
     },
     "execution_count": 21,
     "metadata": {},
     "output_type": "execute_result"
    }
   ],
   "source": [
    "### Check the model for new data\n",
    "\n",
    "x_new=np.linspace(-3,3,200).reshape(200,1)\n",
    "x_new_poly=poly.transform(x_new)\n",
    "x_new_poly"
   ]
  },
  {
   "cell_type": "code",
   "execution_count": 22,
   "metadata": {},
   "outputs": [
    {
     "data": {
      "image/png": "[encoded data removed]",
      "text/plain": [
       "<Figure size 432x288 with 1 Axes>"
      ]
     },
     "metadata": {
      "needs_background": "light"
     },
     "output_type": "display_data"
    }
   ],
   "source": [
    "y_new=regression.predict(x_new_poly)\n",
    "plt.plot(x_new,y_new,'r-',linewidth=2,label='New Predictions')\n",
    "plt.plot(x_train,y_train,'b.',linewidth=2,label='Training Points')\n",
    "plt.plot(x_test,y_test,'g.',linewidth=2,label='Testing Points')\n",
    "plt.xlabel(\"X\")\n",
    "plt.ylabel(\"Y\")\n",
    "plt.legend()\n",
    "plt.show()"
   ]
  },
  {
   "cell_type": "markdown",
   "metadata": {},
   "source": [
    "### Pipeline concept in PPolynomial regression"
   ]
  },
  {
   "cell_type": "code",
   "execution_count": 24,
   "metadata": {},
   "outputs": [],
   "source": [
    "from sklearn.pipeline import Pipeline"
   ]
  },
  {
   "cell_type": "code",
   "execution_count": 50,
   "metadata": {},
   "outputs": [],
   "source": [
    "def poly_regression(degree):\n",
    "    x_new=np.linspace(-3,3,200).reshape(200,1)\n",
    "    \n",
    "    from sklearn.linear_model import LinearRegression\n",
    "    poly_features=PolynomialFeatures(degree=degree,include_bias=True)\n",
    "    lin_reg=LinearRegression()\n",
    "    poly_regression=Pipeline([\n",
    "                              (\"poly_features\",poly_features),\n",
    "                              (\"lin_reg\",lin_reg)\n",
    "                             \n",
    "    ])\n",
    "    poly_regression.fit(x_train,y_train)   # Doing polynomial feature and doing linear regression\n",
    "    y_pred_new=poly_regression.predict(x_new)\n",
    "    \n",
    "    # Plotting prediction line\n",
    "    plt.plot(x_new,y_pred_new,\"r\",label=\"Degree \" + str(degree),linewidth=2)\n",
    "    plt.plot(x_train,y_train,\"b.\",linewidth=3)\n",
    "    plt.plot(x_test,y_test,\"g.\",linewidth=3)\n",
    "    plt.legend(loc=\"upper left\")\n",
    "    plt.xlabel(\"X\")\n",
    "    plt.xlabel(\"Y\")\n",
    "    plt.axis([-4,4,0,10])\n",
    "    plt.show()"
   ]
  },
  {
   "cell_type": "code",
   "execution_count": 52,
   "metadata": {},
   "outputs": [
    {
     "data": {
      "image/png": "[encoded data removed]",
      "text/plain": [
       "<Figure size 432x288 with 1 Axes>"
      ]
     },
     "metadata": {
      "needs_background": "light"
     },
     "output_type": "display_data"
    }
   ],
   "source": [
    "poly_regression(6)"
   ]
  }
 ],
 "metadata": {
  "kernelspec": {
   "display_name": "Python 3",
   "language": "python",
   "name": "python3"
  },
  "language_info": {
   "codemirror_mode": {
    "name": "ipython",
    "version": 3
   },
   "file_extension": ".py",
   "mimetype": "text/x-python",
   "name": "python",
   "nbconvert_exporter": "python",
   "pygments_lexer": "ipython3",
   "version": "3.8.5"
  }
 },
 "nbformat": 4,
 "nbformat_minor": 4
}
